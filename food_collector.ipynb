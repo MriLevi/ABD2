{
 "cells": [
  {
   "cell_type": "markdown",
   "metadata": {
    "pycharm": {
     "name": "#%% md\n"
    }
   },
   "source": [
    "# ABD2\n",
    "\n",
    "Wij gaan tijdens deze opdracht een food-collector simulatie bouwen.\n",
    "In deze simulatie is het doel van de agents om zo veel mogelijk groen eten op te eten, terwijl ze rood eten vermijden.\n",
    "We gaan deze simulatie grid-based maken. \n",
    "\n",
    "We maken gebruik van de gymnasium API: https://gymnasium.farama.org/\n",
    "\n",
    "Ter visualisatie gebruiken we pygame.\n",
    "\n",
    "\n",
    "\n",
    "### Simulation properties:\n",
    "We beginnen in principe met een grid van 128x128, maar dit kan uitgebreid worden. \n",
    "We zullen de implementatie zoveel mogelijk scalable en aanpasbaar implementeren, door hyperparameters aan te maken voor alle belangrijke properties.\n",
    "\n",
    "- Number of agents\n",
    "- Grid size (default 128x128)\n",
    "- Good food to total square ratio\n",
    "- Good food spawning pattern (maybe)\n",
    "- Bad food to total square ratio\n",
    "- Bad food spawning pattern (maybe)\n",
    "- Episode duration\n",
    "\n",
    "### Agent properties:\n",
    "Actions: up, down, left, right, wait\n",
    "\n",
    "Perception: full information (knows coordinates of other agents, good food, and bad food)\n",
    "\n",
    "Agent rules: not yet specified\n",
    "\n",
    "\n",
    "\n"
   ]
  },
  {
   "cell_type": "code",
   "execution_count": 75,
   "metadata": {
    "pycharm": {
     "name": "#%%\n"
    }
   },
   "outputs": [],
   "source": [
    "import numpy as np\n",
    "import pygame\n",
    "import gymnasium as gym\n",
    "from gymnasium import spaces\n",
    "import random\n",
    "import time"
   ]
  },
  {
   "cell_type": "code",
   "execution_count": 76,
   "metadata": {
    "pycharm": {
     "name": "#%%\n"
    }
   },
   "outputs": [],
   "source": [
    "class agent():\n",
    "    def __init__(self):\n",
    "        self.location = [None, None]\n",
    "        self.points = 0\n",
    "\n",
    "    def move(self, direction, grid_size):\n",
    "        new_location = np.clip(list(self.location) + direction, 0, grid_size - 1)\n",
    "        self.location = list(new_location)\n",
    "        \n",
    "    def pick_action(self,obs):\n",
    "        \n",
    "        return random.randint(0,4)\n",
    "        \n"
   ]
  },
  {
   "cell_type": "code",
   "execution_count": 77,
   "outputs": [],
   "source": [
    "class foodCollectorEnv(gym.Env):\n",
    "    metadata = {\"render_modes\": [\"human\", None], \"render_fps\": 4}\n",
    "\n",
    "    def __init__(self, render_mode=None, grid_size=128, game_duration=200, agents=1, good_food_ratio=0.1,\n",
    "                 bad_food_ratio=0.1):\n",
    "        self.grid_size = grid_size  # The size of the square grid\n",
    "        self.window_size = 1028  # The size of the PyGame window\n",
    "        self.game_duration = game_duration\n",
    "        self.current_step = 0\n",
    "        self.agents = [agent() for _ in range(agents)]\n",
    "        self.good_food_ratio = good_food_ratio\n",
    "        self.bad_food_ratio = bad_food_ratio\n",
    "        self.good_food_points = 5\n",
    "        self.bad_food_points = -1\n",
    "        self.render_mode = render_mode\n",
    "        self.window = None\n",
    "\n",
    "        self.observation_space = spaces.Dict({\n",
    "            'agent_locs': spaces.Sequence(spaces.MultiDiscrete([self.grid_size - 1, self.grid_size - 1])),\n",
    "            'good_food_locs': spaces.Sequence(spaces.MultiDiscrete([self.grid_size - 1, self.grid_size - 1])),\n",
    "            'bad_food_locs': spaces.Sequence(spaces.MultiDiscrete([self.grid_size - 1, self.grid_size - 1])),\n",
    "        })\n",
    "\n",
    "        self.action_space = spaces.Sequence(spaces.Discrete(5))\n",
    "\n",
    "        self._action_to_direction = {\n",
    "            0: np.array([0, 0]),\n",
    "            1: np.array([1, 0]),\n",
    "            2: np.array([0, 1]),\n",
    "            3: np.array([-1, 0]),\n",
    "            4: np.array([0, -1])\n",
    "        }\n",
    "\n",
    "        self.good_food_locations = []\n",
    "        self.bad_food_locations = []\n",
    "\n",
    "    def _get_obs(self):\n",
    "        return {\n",
    "            \"agent_locs\": [agent.location for agent in self.agents],\n",
    "            \"good_food_locs\": self.good_food_locs,\n",
    "            \"bad_food_locs\": self.bad_food_locs\n",
    "        }\n",
    "\n",
    "    def reset(self, seed=None, options=None):\n",
    "\n",
    "        super().reset(seed=seed)\n",
    "\n",
    "        self.agent_locs = []\n",
    "        self.good_food_locs = []\n",
    "        self.bad_food_locs = []\n",
    "\n",
    "        while True:\n",
    "            if len(self.agent_locs) >= len(self.agents):\n",
    "                break\n",
    "            loc = [random.randint(0, self.grid_size - 1), random.randint(0, self.grid_size - 1)]\n",
    "            if loc not in self.agent_locs:\n",
    "                self.agent_locs.append(loc)\n",
    "\n",
    "        while True:\n",
    "            if len(self.good_food_locs) >= round(self.good_food_ratio * self.grid_size * self.grid_size):\n",
    "                break\n",
    "            loc = [random.randint(0, self.grid_size - 1), random.randint(0, self.grid_size - 1)]\n",
    "            if loc not in self.agent_locs and loc not in self.good_food_locs and loc not in self.bad_food_locs:\n",
    "                self.good_food_locs.append(loc)\n",
    "\n",
    "        while True:\n",
    "            if len(self.bad_food_locs) >= round(self.bad_food_ratio * self.grid_size * self.grid_size):\n",
    "                break\n",
    "            loc = [random.randint(0, self.grid_size - 1), random.randint(0, self.grid_size - 1)]\n",
    "            if loc not in self.agent_locs and loc not in self.good_food_locs and loc not in self.bad_food_locs:\n",
    "                self.bad_food_locs.append(loc)\n",
    "\n",
    "        for i, agent in enumerate(self.agents):\n",
    "            agent.location = self.agent_locs[i]\n",
    "\n",
    "        observation = self._get_obs()\n",
    "\n",
    "        if self.render_mode == \"human\":\n",
    "            self._render_frame()\n",
    "\n",
    "        info = {\"agent_points\": [agent.points for agent in self.agents]}\n",
    "\n",
    "        return observation, info\n",
    "\n",
    "    def step(self, action):\n",
    "        for i, agent in enumerate(self.agents):\n",
    "\n",
    "            direction = self._action_to_direction[action[i][0]]\n",
    "\n",
    "            if self._is_empty(np.clip(agent.location + direction, 0, self.grid_size - 1)):\n",
    "\n",
    "                agent.move(direction, self.grid_size)\n",
    "            else:\n",
    "                agent.move(self._action_to_direction[0], self.grid_size)\n",
    "\n",
    "            if agent.location in self.good_food_locs:\n",
    "                self.good_food_locs.remove(agent.location)\n",
    "                agent.points += self.good_food_points\n",
    "\n",
    "            if agent.location in self.bad_food_locs:\n",
    "                self.bad_food_locs.remove(agent.location)\n",
    "                agent.points += self.bad_food_points\n",
    "\n",
    "        terminated = self.current_step >= self.game_duration\n",
    "        reward = 1 if terminated else 0  # \n",
    "        observation = self._get_obs()\n",
    "\n",
    "        if self.render_mode == \"human\":\n",
    "            self._render_frame()\n",
    "        info = {\"agent_points\": [agent.points for agent in self.agents]}\n",
    "\n",
    "        self.current_step += 1\n",
    "        time.sleep(0.2)\n",
    "\n",
    "        return observation, reward, terminated, info\n",
    "\n",
    "    def _is_empty(self, loc):\n",
    "\n",
    "        for agent in self.agents:\n",
    "            if sorted(agent.location) == sorted(loc):\n",
    "                return False\n",
    "\n",
    "        return True\n",
    "\n",
    "    def render(self):\n",
    "        if self.render_mode == \"rgb_array\":\n",
    "            return self._render_frame()\n",
    "\n",
    "    def _render_frame(self):\n",
    "        pygame.font.init()\n",
    "        font = pygame.font.Font(None, 24)\n",
    "        scoreboard_width = 0.2\n",
    "\n",
    "        if self.window is None and self.render_mode == \"human\":\n",
    "            pygame.init()\n",
    "            pygame.display.init()\n",
    "            self.window = pygame.display.set_mode(\n",
    "                (self.window_size + self.window_size * scoreboard_width, self.window_size)\n",
    "            )\n",
    "     \n",
    "        canvas = pygame.Surface((self.window_size + self.window_size * scoreboard_width, self.window_size))\n",
    "        canvas.fill((255, 255, 255))\n",
    "        pix_square_size = (\n",
    "                self.window_size / self.grid_size\n",
    "        )\n",
    "        \n",
    "\n",
    "        for i, agent in enumerate(self.agents):\n",
    "            pygame.draw.rect(\n",
    "                canvas,\n",
    "                color='gray',\n",
    "                rect=[agent.location[0] * pix_square_size, (self.grid_size - 1 - agent.location[1]) * pix_square_size,\n",
    "                      pix_square_size, pix_square_size],\n",
    "                width=0\n",
    "            )\n",
    "            lion_image = pygame.image.load(\"lion.png\").convert_alpha()\n",
    "            lion_image = pygame.transform.scale(lion_image, (pix_square_size, pix_square_size))\n",
    "            canvas.blit(lion_image, (agent.location[0] * pix_square_size, (self.grid_size - 1 - agent.location[1]) * pix_square_size))\n",
    "            \n",
    "            score_text = font.render(f\"{i}\", True, \"white\")\n",
    "            canvas.blit(score_text, (agent.location[0] * pix_square_size, (self.grid_size - 1 - agent.location[1]) * pix_square_size))\n",
    "            \n",
    "        \n",
    "\n",
    "        for gfl in self.good_food_locs:\n",
    "            pygame.draw.rect(\n",
    "                canvas,\n",
    "                color='green',\n",
    "                rect=[gfl[0] * pix_square_size, (self.grid_size - 1 - gfl[1]) * pix_square_size, pix_square_size,\n",
    "                      pix_square_size],\n",
    "                width=0\n",
    "            )\n",
    "\n",
    "        for bfl in self.bad_food_locs:\n",
    "            pygame.draw.rect(\n",
    "                canvas,\n",
    "                color='red',\n",
    "                rect=[bfl[0] * pix_square_size, (self.grid_size - 1 - bfl[1]) * pix_square_size, pix_square_size,\n",
    "                      pix_square_size],\n",
    "                width=0\n",
    "            )\n",
    "\n",
    "        for x in range(self.grid_size + 1):\n",
    "            pygame.draw.line(\n",
    "                canvas,\n",
    "                color=0,\n",
    "                start_pos=(0, pix_square_size * x),\n",
    "                end_pos=(self.window_size, pix_square_size * x),\n",
    "                width=1,\n",
    "            )\n",
    "            pygame.draw.line(\n",
    "                canvas,\n",
    "                color=0,\n",
    "                start_pos=(pix_square_size * x, 0),\n",
    "                end_pos=(pix_square_size * x, self.window_size),\n",
    "                width=1,\n",
    "            )\n",
    "            \n",
    "        for i, agent in enumerate(self.agents):\n",
    "            \n",
    "            score_text = font.render(f'Agent {i} | {agent.points}', True, \"black\")\n",
    "            canvas.blit(score_text, (self.window_size + 10 , 10 + (i*50)))\n",
    "\n",
    "        if self.render_mode == \"human\":\n",
    "           \n",
    "            self.window.blit(canvas, canvas.get_rect())\n",
    "            pygame.event.pump()\n",
    "            pygame.display.update()\n",
    "\n",
    "            #self.clock.tick(self.metadata[\"render_fps\"])\n",
    "        else:\n",
    "            return np.transpose(\n",
    "                np.array(pygame.surfarray.pixels3d(canvas)), axes=(1, 0, 2)\n",
    "            )\n"
   ],
   "metadata": {
    "collapsed": false
   }
  },
  {
   "cell_type": "code",
   "execution_count": 78,
   "outputs": [],
   "source": [
    "env = foodCollectorEnv(render_mode=\"human\", grid_size=64, game_duration=50, agents=10, good_food_ratio=0.02,\n",
    "                       bad_food_ratio=0.2)"
   ],
   "metadata": {
    "collapsed": false,
    "pycharm": {
     "name": "#%%\n"
    }
   }
  },
  {
   "cell_type": "code",
   "execution_count": 79,
   "metadata": {
    "pycharm": {
     "name": "#%%\n"
    }
   },
   "outputs": [
    {
     "data": {
      "text/plain": "({'agent_locs': [[10, 16],\n   [50, 17],\n   [37, 22],\n   [0, 53],\n   [12, 17],\n   [2, 31],\n   [58, 56],\n   [2, 2],\n   [49, 36],\n   [30, 49]],\n  'good_food_locs': [[15, 29],\n   [5, 48],\n   [39, 18],\n   [29, 22],\n   [14, 41],\n   [53, 18],\n   [12, 48],\n   [63, 46],\n   [2, 62],\n   [51, 52],\n   [48, 43],\n   [1, 5],\n   [46, 9],\n   [36, 40],\n   [53, 35],\n   [60, 8],\n   [21, 57],\n   [0, 24],\n   [1, 2],\n   [4, 21],\n   [24, 61],\n   [51, 58],\n   [41, 53],\n   [12, 5],\n   [54, 4],\n   [3, 12],\n   [15, 59],\n   [25, 8],\n   [21, 12],\n   [63, 20],\n   [49, 38],\n   [46, 7],\n   [60, 55],\n   [26, 47],\n   [47, 7],\n   [13, 52],\n   [2, 8],\n   [37, 33],\n   [27, 20],\n   [53, 11],\n   [3, 7],\n   [61, 0],\n   [61, 43],\n   [20, 43],\n   [50, 4],\n   [44, 28],\n   [51, 49],\n   [19, 59],\n   [55, 30],\n   [25, 59],\n   [15, 57],\n   [25, 44],\n   [27, 24],\n   [20, 2],\n   [48, 47],\n   [57, 53],\n   [47, 8],\n   [14, 28],\n   [12, 36],\n   [3, 50],\n   [4, 26],\n   [6, 16],\n   [21, 28],\n   [28, 23],\n   [46, 32],\n   [12, 3],\n   [21, 46],\n   [26, 55],\n   [11, 32],\n   [13, 27],\n   [48, 62],\n   [62, 61],\n   [42, 15],\n   [33, 7],\n   [45, 15],\n   [34, 33],\n   [14, 1],\n   [49, 19],\n   [1, 59],\n   [5, 32],\n   [42, 58],\n   [30, 8]],\n  'bad_food_locs': [[41, 31],\n   [52, 10],\n   [8, 36],\n   [16, 38],\n   [14, 45],\n   [53, 27],\n   [50, 54],\n   [24, 44],\n   [7, 11],\n   [2, 17],\n   [34, 46],\n   [17, 25],\n   [19, 7],\n   [25, 26],\n   [37, 54],\n   [43, 39],\n   [26, 60],\n   [15, 10],\n   [63, 17],\n   [12, 51],\n   [57, 57],\n   [13, 24],\n   [62, 50],\n   [61, 54],\n   [8, 32],\n   [62, 24],\n   [45, 6],\n   [43, 32],\n   [30, 4],\n   [29, 53],\n   [2, 57],\n   [10, 50],\n   [42, 36],\n   [59, 21],\n   [46, 19],\n   [44, 43],\n   [21, 40],\n   [60, 59],\n   [15, 22],\n   [3, 34],\n   [43, 47],\n   [27, 2],\n   [18, 14],\n   [56, 30],\n   [58, 42],\n   [23, 33],\n   [60, 58],\n   [43, 40],\n   [17, 21],\n   [40, 15],\n   [46, 63],\n   [37, 59],\n   [37, 12],\n   [26, 28],\n   [38, 25],\n   [48, 0],\n   [26, 29],\n   [19, 30],\n   [14, 25],\n   [1, 52],\n   [26, 51],\n   [21, 59],\n   [62, 59],\n   [38, 41],\n   [2, 36],\n   [60, 60],\n   [56, 40],\n   [58, 21],\n   [6, 41],\n   [56, 48],\n   [39, 6],\n   [54, 43],\n   [18, 59],\n   [11, 27],\n   [55, 49],\n   [45, 49],\n   [43, 45],\n   [24, 43],\n   [27, 37],\n   [22, 30],\n   [28, 19],\n   [38, 56],\n   [15, 14],\n   [45, 37],\n   [62, 33],\n   [60, 24],\n   [34, 39],\n   [0, 44],\n   [28, 35],\n   [61, 30],\n   [18, 8],\n   [14, 52],\n   [39, 40],\n   [40, 8],\n   [28, 27],\n   [17, 54],\n   [16, 54],\n   [57, 54],\n   [40, 47],\n   [8, 33],\n   [46, 49],\n   [39, 23],\n   [9, 8],\n   [19, 43],\n   [33, 50],\n   [21, 31],\n   [7, 7],\n   [53, 49],\n   [44, 56],\n   [28, 57],\n   [18, 58],\n   [41, 43],\n   [59, 37],\n   [57, 33],\n   [52, 4],\n   [45, 62],\n   [30, 31],\n   [19, 49],\n   [12, 2],\n   [19, 42],\n   [40, 3],\n   [63, 21],\n   [37, 42],\n   [42, 26],\n   [41, 3],\n   [56, 8],\n   [20, 59],\n   [36, 1],\n   [63, 16],\n   [11, 1],\n   [44, 35],\n   [7, 48],\n   [38, 58],\n   [2, 58],\n   [49, 54],\n   [12, 50],\n   [2, 59],\n   [57, 48],\n   [17, 57],\n   [38, 31],\n   [41, 48],\n   [31, 12],\n   [48, 46],\n   [5, 17],\n   [5, 51],\n   [5, 57],\n   [56, 10],\n   [61, 26],\n   [12, 54],\n   [36, 8],\n   [45, 29],\n   [29, 15],\n   [19, 2],\n   [20, 11],\n   [12, 53],\n   [3, 11],\n   [6, 4],\n   [8, 21],\n   [30, 28],\n   [37, 21],\n   [20, 13],\n   [10, 39],\n   [62, 0],\n   [59, 32],\n   [37, 13],\n   [55, 4],\n   [2, 10],\n   [22, 5],\n   [36, 56],\n   [38, 13],\n   [40, 42],\n   [31, 59],\n   [62, 44],\n   [40, 44],\n   [32, 61],\n   [11, 8],\n   [50, 51],\n   [28, 34],\n   [33, 0],\n   [20, 58],\n   [62, 20],\n   [36, 4],\n   [23, 32],\n   [35, 15],\n   [63, 23],\n   [56, 51],\n   [19, 46],\n   [33, 45],\n   [37, 32],\n   [23, 10],\n   [29, 24],\n   [56, 28],\n   [12, 45],\n   [24, 30],\n   [23, 31],\n   [12, 43],\n   [32, 37],\n   [61, 27],\n   [33, 47],\n   [12, 57],\n   [26, 26],\n   [53, 3],\n   [3, 6],\n   [60, 21],\n   [5, 14],\n   [26, 40],\n   [2, 5],\n   [12, 15],\n   [42, 10],\n   [0, 3],\n   [29, 38],\n   [52, 45],\n   [0, 46],\n   [18, 0],\n   [62, 47],\n   [44, 42],\n   [35, 49],\n   [0, 38],\n   [39, 0],\n   [23, 51],\n   [0, 30],\n   [22, 28],\n   [19, 26],\n   [7, 25],\n   [49, 42],\n   [57, 30],\n   [59, 22],\n   [31, 45],\n   [33, 15],\n   [56, 7],\n   [38, 23],\n   [0, 13],\n   [28, 63],\n   [8, 19],\n   [24, 37],\n   [35, 28],\n   [45, 51],\n   [11, 42],\n   [55, 40],\n   [13, 53],\n   [23, 56],\n   [27, 61],\n   [18, 49],\n   [14, 42],\n   [44, 7],\n   [19, 34],\n   [4, 40],\n   [24, 10],\n   [38, 16],\n   [49, 21],\n   [30, 20],\n   [30, 13],\n   [17, 1],\n   [14, 26],\n   [11, 7],\n   [38, 54],\n   [63, 51],\n   [11, 50],\n   [16, 32],\n   [46, 50],\n   [31, 11],\n   [18, 42],\n   [29, 26],\n   [37, 63],\n   [42, 63],\n   [12, 14],\n   [51, 59],\n   [23, 22],\n   [36, 5],\n   [31, 50],\n   [25, 27],\n   [51, 36],\n   [26, 53],\n   [57, 14],\n   [60, 7],\n   [41, 16],\n   [55, 39],\n   [63, 10],\n   [4, 19],\n   [8, 54],\n   [9, 59],\n   [53, 45],\n   [41, 9],\n   [33, 5],\n   [11, 22],\n   [12, 52],\n   [22, 38],\n   [12, 22],\n   [31, 46],\n   [34, 59],\n   [51, 29],\n   [52, 53],\n   [57, 42],\n   [38, 2],\n   [33, 49],\n   [51, 8],\n   [62, 35],\n   [34, 32],\n   [43, 22],\n   [42, 50],\n   [26, 52],\n   [49, 52],\n   [0, 31],\n   [33, 13],\n   [20, 9],\n   [52, 37],\n   [54, 39],\n   [58, 2],\n   [30, 2],\n   [39, 46],\n   [9, 30],\n   [8, 0],\n   [8, 53],\n   [62, 43],\n   [19, 5],\n   [24, 45],\n   [52, 2],\n   [45, 3],\n   [32, 44],\n   [2, 32],\n   [0, 29],\n   [6, 0],\n   [46, 57],\n   [7, 58],\n   [3, 15],\n   [41, 7],\n   [43, 24],\n   [34, 47],\n   [53, 26],\n   [31, 9],\n   [47, 19],\n   [1, 7],\n   [43, 57],\n   [47, 32],\n   [52, 58],\n   [40, 25],\n   [14, 15],\n   [61, 39],\n   [9, 52],\n   [61, 62],\n   [60, 36],\n   [18, 44],\n   [40, 12],\n   [29, 47],\n   [52, 40],\n   [39, 9],\n   [19, 11],\n   [31, 18],\n   [57, 20],\n   [59, 44],\n   [57, 50],\n   [56, 52],\n   [24, 32],\n   [38, 49],\n   [56, 3],\n   [4, 12],\n   [34, 42],\n   [31, 20],\n   [19, 58],\n   [16, 6],\n   [31, 31],\n   [55, 20],\n   [61, 45],\n   [37, 10],\n   [4, 27],\n   [13, 34],\n   [33, 32],\n   [30, 22],\n   [53, 40],\n   [37, 56],\n   [45, 38],\n   [53, 46],\n   [49, 17],\n   [36, 47],\n   [35, 10],\n   [61, 9],\n   [32, 31],\n   [21, 14],\n   [43, 6],\n   [30, 39],\n   [46, 3],\n   [49, 47],\n   [61, 52],\n   [42, 42],\n   [50, 36],\n   [59, 6],\n   [7, 22],\n   [19, 56],\n   [2, 48],\n   [50, 22],\n   [51, 12],\n   [54, 13],\n   [61, 57],\n   [43, 0],\n   [48, 56],\n   [58, 43],\n   [16, 62],\n   [15, 34],\n   [30, 27],\n   [48, 9],\n   [37, 49],\n   [6, 62],\n   [4, 41],\n   [57, 25],\n   [59, 58],\n   [36, 36],\n   [19, 15],\n   [13, 61],\n   [60, 47],\n   [51, 37],\n   [62, 28],\n   [62, 3],\n   [41, 47],\n   [42, 31],\n   [18, 34],\n   [21, 29],\n   [50, 57],\n   [17, 33],\n   [17, 14],\n   [50, 42],\n   [34, 37],\n   [42, 38],\n   [31, 29],\n   [11, 41],\n   [19, 57],\n   [44, 25],\n   [23, 8],\n   [40, 51],\n   [28, 61],\n   [9, 4],\n   [17, 28],\n   [15, 54],\n   [0, 57],\n   [4, 20],\n   [24, 22],\n   [32, 29],\n   [60, 46],\n   [20, 28],\n   [21, 22],\n   [62, 17],\n   [61, 61],\n   [13, 7],\n   [53, 63],\n   [13, 12],\n   [42, 9],\n   [4, 31],\n   [6, 31],\n   [37, 11],\n   [48, 34],\n   [57, 0],\n   [26, 39],\n   [57, 4],\n   [58, 29],\n   [11, 47],\n   [43, 17],\n   [58, 26],\n   [12, 46],\n   [25, 18],\n   [39, 10],\n   [11, 44],\n   [19, 1],\n   [56, 22],\n   [52, 17],\n   [22, 8],\n   [50, 61],\n   [45, 44],\n   [55, 47],\n   [20, 24],\n   [22, 17],\n   [19, 12],\n   [1, 4],\n   [43, 18],\n   [39, 21],\n   [6, 48],\n   [30, 61],\n   [2, 46],\n   [6, 25],\n   [51, 18],\n   [31, 6],\n   [4, 45],\n   [43, 42],\n   [19, 27],\n   [33, 51],\n   [60, 51],\n   [36, 49],\n   [17, 5],\n   [36, 19],\n   [33, 9],\n   [54, 10],\n   [22, 25],\n   [27, 12],\n   [9, 14],\n   [21, 13],\n   [22, 32],\n   [46, 51],\n   [19, 3],\n   [46, 45],\n   [4, 3],\n   [17, 27],\n   [17, 46],\n   [50, 33],\n   [5, 47],\n   [47, 52],\n   [54, 2],\n   [19, 47],\n   [16, 10],\n   [7, 21],\n   [32, 51],\n   [30, 57],\n   [5, 0],\n   [10, 21],\n   [61, 18],\n   [53, 1],\n   [26, 24],\n   [53, 2],\n   [4, 39],\n   [39, 15],\n   [12, 33],\n   [41, 19],\n   [50, 11],\n   [58, 41],\n   [56, 29],\n   [1, 43],\n   [38, 45],\n   [47, 23],\n   [3, 8],\n   [44, 37],\n   [15, 58],\n   [28, 54],\n   [38, 44],\n   [56, 37],\n   [15, 41],\n   [1, 60],\n   [13, 39],\n   [32, 30],\n   [63, 39],\n   [35, 9],\n   [41, 39],\n   [46, 43],\n   [63, 1],\n   [38, 10],\n   [13, 30],\n   [9, 5],\n   [48, 54],\n   [32, 2],\n   [33, 36],\n   [32, 47],\n   [51, 7],\n   [57, 24],\n   [17, 42],\n   [32, 41],\n   [17, 38],\n   [51, 43],\n   [42, 25],\n   [12, 39],\n   [4, 38],\n   [23, 7],\n   [6, 49],\n   [58, 38],\n   [34, 44],\n   [47, 49],\n   [25, 23],\n   [28, 15],\n   [1, 49],\n   [46, 52],\n   [8, 50],\n   [18, 5],\n   [1, 55],\n   [27, 63],\n   [52, 63],\n   [5, 8],\n   [7, 57],\n   [24, 16],\n   [27, 18],\n   [34, 63],\n   [17, 10],\n   [49, 24],\n   [16, 4],\n   [3, 47],\n   [54, 1],\n   [9, 9],\n   [34, 57],\n   [22, 63],\n   [16, 13],\n   [22, 3],\n   [59, 20],\n   [55, 54],\n   [25, 3],\n   [33, 53],\n   [6, 15],\n   [7, 44],\n   [23, 25],\n   [38, 0],\n   [28, 17],\n   [0, 62],\n   [17, 6],\n   [18, 4],\n   [42, 47],\n   [25, 50],\n   [5, 45],\n   [17, 20],\n   [1, 22],\n   [44, 24],\n   [25, 40],\n   [2, 7],\n   [1, 12],\n   [27, 26],\n   [28, 51],\n   [10, 4],\n   [12, 59],\n   [25, 36],\n   [7, 49],\n   [38, 60],\n   [21, 27],\n   [20, 34],\n   [23, 16],\n   [38, 5],\n   [48, 53],\n   [49, 12],\n   [56, 38],\n   [25, 63],\n   [28, 5],\n   [53, 53],\n   [27, 32],\n   [14, 7],\n   [29, 50],\n   [36, 16],\n   [16, 17],\n   [54, 3],\n   [10, 0],\n   [36, 53],\n   [23, 0],\n   [51, 3],\n   [29, 23],\n   [21, 44],\n   [29, 37],\n   [45, 40],\n   [18, 20],\n   [0, 19],\n   [8, 5],\n   [23, 26],\n   [16, 0],\n   [20, 5],\n   [5, 18],\n   [28, 12],\n   [24, 9],\n   [58, 53],\n   [7, 53],\n   [18, 50],\n   [7, 31],\n   [26, 41],\n   [11, 59],\n   [63, 3],\n   [13, 36],\n   [30, 46],\n   [5, 9],\n   [50, 26],\n   [37, 45],\n   [8, 4],\n   [29, 3],\n   [11, 39],\n   [20, 17],\n   [49, 56],\n   [47, 13],\n   [53, 25],\n   [23, 49],\n   [45, 55],\n   [58, 36],\n   [16, 42],\n   [29, 33],\n   [60, 45],\n   [29, 16],\n   [11, 11],\n   [56, 49],\n   [29, 30],\n   [43, 38],\n   [6, 9],\n   [39, 62],\n   [40, 18],\n   [5, 34],\n   [63, 28],\n   [2, 53],\n   [1, 44],\n   [27, 17],\n   [63, 25],\n   [26, 59],\n   [4, 54],\n   [29, 21],\n   [40, 23],\n   [31, 0],\n   [20, 38],\n   [33, 46],\n   [61, 7],\n   [48, 55],\n   [35, 34],\n   [25, 32],\n   [55, 36],\n   [62, 32],\n   [59, 25],\n   [17, 3],\n   [5, 39],\n   [57, 19],\n   [60, 30],\n   [61, 50],\n   [56, 33],\n   [1, 31],\n   [21, 9],\n   [50, 13],\n   [13, 43],\n   [2, 6],\n   [18, 55],\n   [44, 50],\n   [18, 7],\n   [39, 56],\n   [40, 0],\n   [43, 44],\n   [26, 7],\n   [1, 11],\n   [31, 17],\n   [57, 9],\n   [32, 22],\n   [48, 26],\n   [35, 25],\n   [16, 3],\n   [15, 23],\n   [31, 62],\n   [6, 63],\n   [10, 7],\n   [35, 47],\n   [55, 22],\n   [56, 15],\n   [31, 16],\n   [15, 50],\n   [1, 27],\n   [31, 15],\n   [27, 53],\n   [61, 1],\n   [57, 39],\n   [16, 48],\n   [40, 17],\n   [3, 19],\n   [35, 14],\n   [40, 22],\n   [52, 35],\n   [32, 57],\n   [28, 11],\n   [50, 8],\n   [42, 30],\n   [35, 5],\n   [55, 24],\n   [23, 2],\n   [46, 0],\n   [26, 31],\n   [10, 24],\n   [32, 62],\n   [13, 5],\n   [11, 38],\n   [26, 5],\n   [35, 40],\n   [37, 1],\n   [18, 46],\n   [56, 14],\n   [13, 3],\n   [9, 31],\n   [50, 38],\n   [53, 21],\n   [1, 30],\n   [7, 17],\n   [19, 55],\n   [46, 61],\n   [1, 38],\n   [11, 21],\n   [26, 23],\n   [6, 12],\n   [1, 23],\n   [34, 11],\n   [44, 52],\n   [17, 52],\n   [48, 22],\n   [55, 12],\n   [57, 46],\n   [29, 52],\n   [21, 6],\n   [40, 54],\n   [58, 4],\n   [21, 15],\n   [7, 30],\n   [63, 7],\n   [12, 30],\n   [57, 1],\n   [37, 47],\n   [51, 48],\n   [28, 59],\n   [15, 25],\n   [60, 27],\n   [13, 44],\n   [18, 28],\n   [40, 36],\n   [56, 60],\n   [51, 2],\n   [47, 58],\n   [8, 62],\n   [55, 62],\n   [13, 59],\n   [14, 63],\n   [35, 52],\n   [29, 46],\n   [26, 11],\n   [60, 19],\n   [7, 40],\n   [48, 44],\n   [7, 19],\n   [7, 37],\n   [14, 60],\n   [40, 48],\n   [23, 11],\n   [13, 18],\n   [34, 26],\n   [57, 21]]},\n {'agent_points': [0, 0, 0, 0, 0, 0, 0, 0, 0, 0]})"
     },
     "execution_count": 79,
     "metadata": {},
     "output_type": "execute_result"
    }
   ],
   "source": [
    "env.reset()"
   ]
  },
  {
   "cell_type": "code",
   "execution_count": 80,
   "metadata": {
    "pycharm": {
     "name": "#%%\n"
    }
   },
   "outputs": [],
   "source": [
    "observation = env._get_obs\n",
    "while True:\n",
    "    \n",
    "\n",
    "    observation, reward, terminated, info = env.step([[agent.pick_action(observation)] for agent in env.agents])\n",
    "\n",
    "    if terminated:\n",
    "        break\n",
    "pygame.quit()    "
   ]
  },
  {
   "cell_type": "code",
   "execution_count": 81,
   "metadata": {
    "pycharm": {
     "name": "#%%\n"
    }
   },
   "outputs": [
    {
     "name": "stdout",
     "output_type": "stream",
     "text": [
      "{'agent_points': [-6, -4, -5, -1, -6, 2, 0, 3, 5, 0]}\n",
      "Agent 8 wins the game with 5 points\n"
     ]
    }
   ],
   "source": [
    "print(info)\n",
    "np.argmax(info['agent_points'])\n",
    "print(f\"Agent {np.argmax(info['agent_points'])} wins the game with {max(info['agent_points'])} points\")"
   ]
  }
 ],
 "metadata": {
  "kernelspec": {
   "display_name": "Python 3 (ipykernel)",
   "language": "python",
   "name": "python3"
  },
  "language_info": {
   "codemirror_mode": {
    "name": "ipython",
    "version": 3
   },
   "file_extension": ".py",
   "mimetype": "text/x-python",
   "name": "python",
   "nbconvert_exporter": "python",
   "pygments_lexer": "ipython3",
   "version": "3.10.9"
  }
 },
 "nbformat": 4,
 "nbformat_minor": 1
}
