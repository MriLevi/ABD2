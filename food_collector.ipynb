{
 "cells": [
  {
   "cell_type": "markdown",
   "metadata": {
    "pycharm": {
     "name": "#%% md\n"
    }
   },
   "source": [
    "# ABD2\n",
    "\n",
    "Wij gaan tijdens deze opdracht een food-collector simulatie bouwen.\n",
    "In deze simulatie is het doel van de agents om zo veel mogelijk groen eten op te eten, terwijl ze rood eten vermijden.\n",
    "We gaan deze simulatie grid-based maken. \n",
    "\n",
    "We maken gebruik van de gymnasium API: https://gymnasium.farama.org/\n",
    "\n",
    "Ter visualisatie gebruiken we pygame.\n",
    "\n",
    "\n",
    "\n",
    "### Simulation properties:\n",
    "We beginnen in principe met een grid van 128x128, maar dit kan uitgebreid worden. \n",
    "We zullen de implementatie zoveel mogelijk scalable en aanpasbaar implementeren, door hyperparameters aan te maken voor alle belangrijke properties.\n",
    "\n",
    "- Number of agents\n",
    "- Grid size (default 128x128)\n",
    "- Good food to total square ratio\n",
    "- Good food spawning pattern (maybe)\n",
    "- Bad food to total square ratio\n",
    "- Bad food spawning pattern (maybe)\n",
    "- Episode duration\n",
    "\n",
    "### Agent properties:\n",
    "Actions: up, down, left, right, wait\n",
    "\n",
    "Perception: full information (knows coordinates of other agents, good food, and bad food)\n",
    "\n",
    "Agent rules: not yet specified\n",
    "\n",
    "\n",
    "\n"
   ]
  },
  {
   "cell_type": "code",
   "execution_count": 82,
   "metadata": {
    "pycharm": {
     "name": "#%%\n"
    }
   },
   "outputs": [],
   "source": [
    "import numpy as np\n",
    "import pygame\n",
    "import gymnasium as gym\n",
    "from gymnasium import spaces\n",
    "import random\n",
    "import time"
   ]
  },
  {
   "cell_type": "code",
   "execution_count": 83,
   "metadata": {
    "pycharm": {
     "name": "#%%\n"
    }
   },
   "outputs": [],
   "source": [
    "class agent():\n",
    "    def __init__(self):\n",
    "        self.location = [None, None]\n",
    "        self.points = 0\n",
    "\n",
    "    def move(self, direction, grid_size):\n",
    "        new_location = np.clip(list(self.location) + direction, 0, grid_size - 1)\n",
    "        self.location = list(new_location)\n",
    "        \n",
    "    def pick_action(self,obs):\n",
    "        \n",
    "        return random.randint(0,4)\n",
    "        \n"
   ]
  },
  {
   "cell_type": "code",
   "execution_count": 84,
   "outputs": [],
   "source": [
    "class foodCollectorEnv(gym.Env):\n",
    "    metadata = {\"render_modes\": [\"human\", None], \"render_fps\": 4}\n",
    "\n",
    "    def __init__(self, render_mode=None, grid_size=128, game_duration=200, agents=1, good_food_ratio=0.1,\n",
    "                 bad_food_ratio=0.1):\n",
    "        self.grid_size = grid_size  # The size of the square grid\n",
    "        self.window_size = 1028  # The size of the PyGame window\n",
    "        self.game_duration = game_duration\n",
    "        self.current_step = 0\n",
    "        self.agents = [agent() for _ in range(agents)]\n",
    "        self.good_food_ratio = good_food_ratio\n",
    "        self.bad_food_ratio = bad_food_ratio\n",
    "        self.good_food_points = 5\n",
    "        self.bad_food_points = -1\n",
    "        self.render_mode = render_mode\n",
    "        self.window = None\n",
    "\n",
    "        self.observation_space = spaces.Dict({\n",
    "            'agent_locs': spaces.Sequence(spaces.MultiDiscrete([self.grid_size - 1, self.grid_size - 1])),\n",
    "            'good_food_locs': spaces.Sequence(spaces.MultiDiscrete([self.grid_size - 1, self.grid_size - 1])),\n",
    "            'bad_food_locs': spaces.Sequence(spaces.MultiDiscrete([self.grid_size - 1, self.grid_size - 1])),\n",
    "        })\n",
    "\n",
    "        self.action_space = spaces.Sequence(spaces.Discrete(5))\n",
    "\n",
    "        self._action_to_direction = {\n",
    "            0: np.array([0, 0]),\n",
    "            1: np.array([1, 0]),\n",
    "            2: np.array([0, 1]),\n",
    "            3: np.array([-1, 0]),\n",
    "            4: np.array([0, -1])\n",
    "        }\n",
    "\n",
    "        self.good_food_locations = []\n",
    "        self.bad_food_locations = []\n",
    "\n",
    "    def _get_obs(self):\n",
    "        return {\n",
    "            \"agent_locs\": [agent.location for agent in self.agents],\n",
    "            \"good_food_locs\": self.good_food_locs,\n",
    "            \"bad_food_locs\": self.bad_food_locs\n",
    "        }\n",
    "\n",
    "    def reset(self, seed=None, options=None):\n",
    "\n",
    "        super().reset(seed=seed)\n",
    "\n",
    "        self.agent_locs = []\n",
    "        self.good_food_locs = []\n",
    "        self.bad_food_locs = []\n",
    "\n",
    "        while True:\n",
    "            if len(self.agent_locs) >= len(self.agents):\n",
    "                break\n",
    "            loc = [random.randint(0, self.grid_size - 1), random.randint(0, self.grid_size - 1)]\n",
    "            if loc not in self.agent_locs:\n",
    "                self.agent_locs.append(loc)\n",
    "\n",
    "        while True:\n",
    "            if len(self.good_food_locs) >= round(self.good_food_ratio * self.grid_size * self.grid_size):\n",
    "                break\n",
    "            loc = [random.randint(0, self.grid_size - 1), random.randint(0, self.grid_size - 1)]\n",
    "            if loc not in self.agent_locs and loc not in self.good_food_locs and loc not in self.bad_food_locs:\n",
    "                self.good_food_locs.append(loc)\n",
    "\n",
    "        while True:\n",
    "            if len(self.bad_food_locs) >= round(self.bad_food_ratio * self.grid_size * self.grid_size):\n",
    "                break\n",
    "            loc = [random.randint(0, self.grid_size - 1), random.randint(0, self.grid_size - 1)]\n",
    "            if loc not in self.agent_locs and loc not in self.good_food_locs and loc not in self.bad_food_locs:\n",
    "                self.bad_food_locs.append(loc)\n",
    "\n",
    "        for i, agent in enumerate(self.agents):\n",
    "            agent.location = self.agent_locs[i]\n",
    "\n",
    "        observation = self._get_obs()\n",
    "\n",
    "        if self.render_mode == \"human\":\n",
    "            self._render_frame()\n",
    "\n",
    "        info = {\"agent_points\": [agent.points for agent in self.agents]}\n",
    "\n",
    "        return observation, info\n",
    "\n",
    "    def step(self, action):\n",
    "        for i, agent in enumerate(self.agents):\n",
    "\n",
    "            direction = self._action_to_direction[action[i][0]]\n",
    "\n",
    "            if self._is_empty(np.clip(agent.location + direction, 0, self.grid_size - 1)):\n",
    "\n",
    "                agent.move(direction, self.grid_size)\n",
    "            else:\n",
    "                agent.move(self._action_to_direction[0], self.grid_size)\n",
    "\n",
    "            if agent.location in self.good_food_locs:\n",
    "                self.good_food_locs.remove(agent.location)\n",
    "                agent.points += self.good_food_points\n",
    "\n",
    "            if agent.location in self.bad_food_locs:\n",
    "                self.bad_food_locs.remove(agent.location)\n",
    "                agent.points += self.bad_food_points\n",
    "\n",
    "        terminated = self.current_step >= self.game_duration\n",
    "        reward = 1 if terminated else 0  # \n",
    "        observation = self._get_obs()\n",
    "\n",
    "        if self.render_mode == \"human\":\n",
    "            self._render_frame()\n",
    "        info = {\"agent_points\": [agent.points for agent in self.agents]}\n",
    "\n",
    "        self.current_step += 1\n",
    "        time.sleep(0.2)\n",
    "\n",
    "        return observation, reward, terminated, info\n",
    "\n",
    "    def _is_empty(self, loc):\n",
    "\n",
    "        for agent in self.agents:\n",
    "            if sorted(agent.location) == sorted(loc):\n",
    "                return False\n",
    "\n",
    "        return True\n",
    "\n",
    "    def render(self):\n",
    "        if self.render_mode == \"rgb_array\":\n",
    "            return self._render_frame()\n",
    "\n",
    "    def _render_frame(self):\n",
    "        pygame.font.init()\n",
    "        font = pygame.font.Font(None, 24)\n",
    "        scoreboard_width = 0.2\n",
    "\n",
    "        if self.window is None and self.render_mode == \"human\":\n",
    "            pygame.init()\n",
    "            pygame.display.init()\n",
    "            self.window = pygame.display.set_mode(\n",
    "                (self.window_size + self.window_size * scoreboard_width, self.window_size)\n",
    "            )\n",
    "     \n",
    "        canvas = pygame.Surface((self.window_size + self.window_size * scoreboard_width, self.window_size))\n",
    "        canvas.fill((255, 255, 255))\n",
    "        pix_square_size = (\n",
    "                self.window_size / self.grid_size\n",
    "        )\n",
    "        \n",
    "\n",
    "        for i, agent in enumerate(self.agents):\n",
    "            pygame.draw.rect(\n",
    "                canvas,\n",
    "                color='gray',\n",
    "                rect=[agent.location[0] * pix_square_size, (self.grid_size - 1 - agent.location[1]) * pix_square_size,\n",
    "                      pix_square_size, pix_square_size],\n",
    "                width=0\n",
    "            )\n",
    "            lion_image = pygame.image.load(\"lion.png\").convert_alpha()\n",
    "            lion_image = pygame.transform.scale(lion_image, (pix_square_size, pix_square_size))\n",
    "            canvas.blit(lion_image, (agent.location[0] * pix_square_size, (self.grid_size - 1 - agent.location[1]) * pix_square_size))\n",
    "            \n",
    "            score_text = font.render(f\"{i}\", True, \"white\")\n",
    "            canvas.blit(score_text, (agent.location[0] * pix_square_size, (self.grid_size - 1 - agent.location[1]) * pix_square_size))\n",
    "            \n",
    "        \n",
    "\n",
    "        for gfl in self.good_food_locs:\n",
    "            pygame.draw.rect(\n",
    "                canvas,\n",
    "                color='green',\n",
    "                rect=[gfl[0] * pix_square_size, (self.grid_size - 1 - gfl[1]) * pix_square_size, pix_square_size,\n",
    "                      pix_square_size],\n",
    "                width=0\n",
    "            )\n",
    "\n",
    "        for bfl in self.bad_food_locs:\n",
    "            pygame.draw.rect(\n",
    "                canvas,\n",
    "                color='red',\n",
    "                rect=[bfl[0] * pix_square_size, (self.grid_size - 1 - bfl[1]) * pix_square_size, pix_square_size,\n",
    "                      pix_square_size],\n",
    "                width=0\n",
    "            )\n",
    "\n",
    "        for x in range(self.grid_size + 1):\n",
    "            pygame.draw.line(\n",
    "                canvas,\n",
    "                color=0,\n",
    "                start_pos=(0, pix_square_size * x),\n",
    "                end_pos=(self.window_size, pix_square_size * x),\n",
    "                width=1,\n",
    "            )\n",
    "            pygame.draw.line(\n",
    "                canvas,\n",
    "                color=0,\n",
    "                start_pos=(pix_square_size * x, 0),\n",
    "                end_pos=(pix_square_size * x, self.window_size),\n",
    "                width=1,\n",
    "            )\n",
    "            \n",
    "        for i, agent in enumerate(self.agents):\n",
    "            \n",
    "            score_text = font.render(f'Agent {i} | {agent.points}', True, \"black\")\n",
    "            canvas.blit(score_text, (self.window_size + 10 , 10 + (i*50)))\n",
    "\n",
    "        if self.render_mode == \"human\":\n",
    "           \n",
    "            self.window.blit(canvas, canvas.get_rect())\n",
    "            pygame.event.pump()\n",
    "            pygame.display.update()\n",
    "\n",
    "            #self.clock.tick(self.metadata[\"render_fps\"])\n",
    "        else:\n",
    "            return np.transpose(\n",
    "                np.array(pygame.surfarray.pixels3d(canvas)), axes=(1, 0, 2)\n",
    "            )\n"
   ],
   "metadata": {
    "collapsed": false
   }
  },
  {
   "cell_type": "code",
   "execution_count": 85,
   "outputs": [],
   "source": [
    "env = foodCollectorEnv(render_mode=\"human\", grid_size=64, game_duration=50, agents=10, good_food_ratio=0.02,\n",
    "                       bad_food_ratio=0.2)"
   ],
   "metadata": {
    "collapsed": false,
    "pycharm": {
     "name": "#%%\n"
    }
   }
  },
  {
   "cell_type": "code",
   "execution_count": 86,
   "metadata": {
    "pycharm": {
     "name": "#%%\n"
    }
   },
   "outputs": [
    {
     "data": {
      "text/plain": "({'agent_locs': [[8, 26],\n   [56, 22],\n   [4, 32],\n   [17, 14],\n   [58, 47],\n   [8, 30],\n   [56, 62],\n   [29, 15],\n   [27, 44],\n   [56, 49]],\n  'good_food_locs': [[32, 62],\n   [53, 44],\n   [18, 33],\n   [50, 1],\n   [35, 47],\n   [12, 17],\n   [4, 7],\n   [36, 0],\n   [58, 34],\n   [31, 50],\n   [24, 55],\n   [6, 44],\n   [20, 40],\n   [58, 11],\n   [13, 45],\n   [14, 9],\n   [6, 11],\n   [2, 18],\n   [43, 49],\n   [12, 43],\n   [41, 11],\n   [9, 44],\n   [53, 20],\n   [0, 37],\n   [54, 20],\n   [62, 6],\n   [12, 51],\n   [47, 13],\n   [39, 22],\n   [49, 1],\n   [48, 11],\n   [56, 31],\n   [46, 58],\n   [1, 24],\n   [49, 54],\n   [55, 14],\n   [26, 23],\n   [48, 27],\n   [38, 62],\n   [62, 20],\n   [7, 36],\n   [24, 50],\n   [44, 42],\n   [60, 23],\n   [11, 36],\n   [25, 0],\n   [8, 57],\n   [13, 14],\n   [24, 54],\n   [8, 63],\n   [35, 51],\n   [62, 32],\n   [27, 42],\n   [45, 3],\n   [1, 2],\n   [60, 28],\n   [31, 26],\n   [38, 50],\n   [15, 53],\n   [7, 0],\n   [2, 45],\n   [58, 40],\n   [10, 53],\n   [18, 29],\n   [24, 21],\n   [38, 49],\n   [6, 32],\n   [29, 35],\n   [12, 32],\n   [42, 37],\n   [48, 20],\n   [25, 43],\n   [28, 28],\n   [34, 42],\n   [27, 19],\n   [47, 28],\n   [8, 39],\n   [14, 7],\n   [26, 10],\n   [15, 7],\n   [34, 20],\n   [38, 45]],\n  'bad_food_locs': [[43, 42],\n   [24, 34],\n   [4, 61],\n   [23, 6],\n   [36, 31],\n   [1, 3],\n   [37, 56],\n   [10, 38],\n   [54, 13],\n   [46, 41],\n   [25, 48],\n   [22, 24],\n   [61, 13],\n   [8, 56],\n   [19, 56],\n   [45, 63],\n   [28, 4],\n   [31, 27],\n   [3, 53],\n   [7, 56],\n   [9, 60],\n   [53, 36],\n   [39, 28],\n   [38, 22],\n   [2, 11],\n   [20, 37],\n   [26, 2],\n   [24, 62],\n   [63, 25],\n   [28, 57],\n   [56, 50],\n   [4, 26],\n   [33, 0],\n   [25, 49],\n   [8, 41],\n   [9, 3],\n   [56, 9],\n   [16, 21],\n   [59, 9],\n   [40, 59],\n   [33, 31],\n   [8, 6],\n   [37, 52],\n   [15, 25],\n   [32, 17],\n   [52, 2],\n   [36, 9],\n   [10, 2],\n   [54, 44],\n   [40, 16],\n   [45, 50],\n   [15, 4],\n   [31, 46],\n   [29, 27],\n   [29, 45],\n   [33, 39],\n   [20, 26],\n   [26, 31],\n   [41, 32],\n   [61, 27],\n   [0, 49],\n   [23, 57],\n   [34, 51],\n   [23, 26],\n   [16, 5],\n   [42, 61],\n   [47, 40],\n   [55, 6],\n   [60, 7],\n   [48, 22],\n   [4, 40],\n   [14, 37],\n   [13, 34],\n   [58, 39],\n   [53, 33],\n   [5, 25],\n   [51, 52],\n   [58, 6],\n   [26, 32],\n   [21, 56],\n   [1, 28],\n   [8, 5],\n   [5, 7],\n   [41, 2],\n   [17, 50],\n   [30, 42],\n   [61, 61],\n   [12, 14],\n   [24, 1],\n   [45, 11],\n   [35, 38],\n   [23, 0],\n   [6, 28],\n   [48, 63],\n   [12, 23],\n   [47, 0],\n   [55, 62],\n   [32, 2],\n   [40, 5],\n   [52, 38],\n   [18, 19],\n   [2, 2],\n   [3, 6],\n   [62, 31],\n   [3, 29],\n   [43, 28],\n   [27, 43],\n   [39, 63],\n   [19, 36],\n   [13, 7],\n   [44, 51],\n   [21, 12],\n   [15, 27],\n   [60, 36],\n   [24, 36],\n   [40, 53],\n   [53, 30],\n   [50, 40],\n   [7, 3],\n   [61, 51],\n   [63, 45],\n   [22, 45],\n   [63, 40],\n   [7, 31],\n   [42, 63],\n   [7, 29],\n   [26, 3],\n   [40, 61],\n   [54, 10],\n   [55, 28],\n   [43, 54],\n   [55, 15],\n   [7, 44],\n   [42, 22],\n   [9, 58],\n   [56, 27],\n   [33, 14],\n   [53, 23],\n   [20, 50],\n   [12, 16],\n   [46, 48],\n   [21, 53],\n   [46, 7],\n   [55, 55],\n   [23, 51],\n   [7, 43],\n   [16, 29],\n   [15, 11],\n   [14, 60],\n   [45, 49],\n   [11, 21],\n   [52, 47],\n   [46, 21],\n   [25, 7],\n   [63, 43],\n   [61, 4],\n   [44, 32],\n   [57, 59],\n   [19, 29],\n   [0, 30],\n   [40, 48],\n   [43, 57],\n   [0, 41],\n   [39, 47],\n   [32, 38],\n   [19, 10],\n   [37, 46],\n   [50, 33],\n   [22, 29],\n   [48, 38],\n   [27, 35],\n   [48, 41],\n   [0, 11],\n   [30, 16],\n   [20, 48],\n   [45, 44],\n   [58, 4],\n   [24, 14],\n   [1, 51],\n   [56, 30],\n   [58, 42],\n   [52, 6],\n   [32, 3],\n   [48, 39],\n   [31, 6],\n   [61, 53],\n   [55, 44],\n   [9, 40],\n   [31, 31],\n   [49, 50],\n   [40, 11],\n   [26, 45],\n   [33, 28],\n   [4, 56],\n   [17, 11],\n   [47, 10],\n   [3, 10],\n   [2, 3],\n   [53, 48],\n   [5, 26],\n   [58, 28],\n   [59, 13],\n   [27, 18],\n   [23, 35],\n   [42, 38],\n   [47, 6],\n   [39, 35],\n   [11, 51],\n   [41, 63],\n   [6, 23],\n   [57, 45],\n   [34, 18],\n   [53, 37],\n   [14, 30],\n   [15, 57],\n   [9, 12],\n   [39, 57],\n   [48, 40],\n   [52, 57],\n   [3, 13],\n   [40, 63],\n   [31, 59],\n   [61, 56],\n   [53, 53],\n   [9, 34],\n   [35, 13],\n   [44, 10],\n   [38, 41],\n   [21, 15],\n   [17, 30],\n   [20, 55],\n   [39, 14],\n   [43, 18],\n   [19, 41],\n   [50, 58],\n   [3, 17],\n   [37, 29],\n   [27, 26],\n   [17, 58],\n   [1, 58],\n   [10, 20],\n   [45, 29],\n   [36, 60],\n   [35, 40],\n   [1, 31],\n   [27, 24],\n   [51, 50],\n   [51, 14],\n   [40, 39],\n   [3, 43],\n   [59, 1],\n   [63, 15],\n   [32, 49],\n   [2, 21],\n   [58, 48],\n   [50, 16],\n   [54, 17],\n   [50, 15],\n   [14, 19],\n   [51, 5],\n   [48, 46],\n   [0, 4],\n   [50, 60],\n   [1, 4],\n   [17, 49],\n   [44, 0],\n   [30, 20],\n   [9, 52],\n   [18, 8],\n   [49, 42],\n   [19, 59],\n   [35, 1],\n   [15, 55],\n   [26, 36],\n   [57, 44],\n   [21, 46],\n   [12, 5],\n   [46, 10],\n   [4, 43],\n   [57, 0],\n   [40, 10],\n   [5, 27],\n   [52, 34],\n   [17, 16],\n   [41, 42],\n   [52, 5],\n   [30, 56],\n   [0, 48],\n   [61, 19],\n   [29, 19],\n   [0, 58],\n   [30, 4],\n   [2, 53],\n   [8, 1],\n   [25, 13],\n   [33, 12],\n   [57, 57],\n   [30, 15],\n   [60, 38],\n   [9, 37],\n   [24, 24],\n   [2, 7],\n   [12, 26],\n   [56, 2],\n   [54, 63],\n   [56, 33],\n   [3, 31],\n   [35, 36],\n   [54, 55],\n   [21, 43],\n   [11, 57],\n   [57, 39],\n   [33, 45],\n   [60, 43],\n   [60, 13],\n   [19, 39],\n   [19, 2],\n   [61, 34],\n   [16, 23],\n   [8, 44],\n   [33, 16],\n   [26, 24],\n   [20, 12],\n   [57, 9],\n   [51, 8],\n   [57, 25],\n   [57, 3],\n   [4, 19],\n   [28, 19],\n   [5, 45],\n   [10, 45],\n   [60, 10],\n   [35, 21],\n   [3, 55],\n   [48, 14],\n   [48, 4],\n   [46, 47],\n   [43, 39],\n   [36, 35],\n   [51, 21],\n   [18, 21],\n   [42, 25],\n   [15, 9],\n   [61, 17],\n   [22, 44],\n   [42, 19],\n   [21, 40],\n   [8, 36],\n   [28, 22],\n   [0, 28],\n   [40, 47],\n   [12, 44],\n   [60, 44],\n   [57, 46],\n   [9, 33],\n   [10, 42],\n   [62, 1],\n   [38, 30],\n   [16, 33],\n   [57, 29],\n   [54, 14],\n   [43, 63],\n   [56, 5],\n   [6, 33],\n   [31, 62],\n   [25, 21],\n   [59, 33],\n   [43, 1],\n   [57, 60],\n   [51, 41],\n   [36, 57],\n   [29, 2],\n   [7, 23],\n   [6, 29],\n   [29, 61],\n   [38, 3],\n   [6, 63],\n   [36, 10],\n   [26, 58],\n   [55, 41],\n   [39, 17],\n   [31, 17],\n   [14, 44],\n   [20, 22],\n   [41, 54],\n   [51, 15],\n   [59, 43],\n   [48, 59],\n   [49, 22],\n   [28, 1],\n   [61, 58],\n   [1, 57],\n   [9, 14],\n   [6, 55],\n   [63, 37],\n   [30, 43],\n   [1, 5],\n   [28, 12],\n   [12, 38],\n   [14, 20],\n   [5, 54],\n   [0, 14],\n   [49, 47],\n   [3, 32],\n   [29, 25],\n   [11, 10],\n   [33, 47],\n   [53, 47],\n   [17, 40],\n   [54, 0],\n   [33, 51],\n   [15, 43],\n   [18, 43],\n   [22, 39],\n   [20, 18],\n   [27, 2],\n   [22, 17],\n   [26, 5],\n   [8, 18],\n   [33, 5],\n   [12, 55],\n   [40, 52],\n   [0, 20],\n   [26, 42],\n   [2, 49],\n   [2, 10],\n   [17, 4],\n   [8, 31],\n   [26, 43],\n   [52, 18],\n   [16, 9],\n   [28, 9],\n   [17, 59],\n   [24, 28],\n   [57, 7],\n   [32, 27],\n   [25, 46],\n   [46, 54],\n   [61, 28],\n   [49, 20],\n   [4, 25],\n   [5, 57],\n   [12, 45],\n   [55, 16],\n   [37, 54],\n   [47, 18],\n   [56, 43],\n   [60, 47],\n   [60, 27],\n   [58, 33],\n   [3, 20],\n   [53, 14],\n   [1, 0],\n   [49, 41],\n   [62, 38],\n   [3, 56],\n   [57, 2],\n   [36, 11],\n   [52, 7],\n   [38, 43],\n   [6, 40],\n   [41, 12],\n   [1, 45],\n   [8, 4],\n   [31, 37],\n   [6, 60],\n   [24, 60],\n   [53, 63],\n   [46, 36],\n   [20, 28],\n   [20, 41],\n   [3, 3],\n   [50, 42],\n   [3, 54],\n   [23, 29],\n   [49, 23],\n   [48, 42],\n   [46, 12],\n   [34, 61],\n   [63, 38],\n   [9, 31],\n   [31, 42],\n   [35, 48],\n   [8, 32],\n   [39, 11],\n   [29, 26],\n   [26, 62],\n   [6, 13],\n   [42, 1],\n   [40, 4],\n   [60, 20],\n   [11, 34],\n   [42, 11],\n   [50, 59],\n   [43, 48],\n   [31, 33],\n   [25, 15],\n   [58, 21],\n   [27, 48],\n   [13, 1],\n   [46, 16],\n   [27, 52],\n   [30, 31],\n   [28, 46],\n   [6, 21],\n   [57, 19],\n   [41, 17],\n   [50, 63],\n   [44, 11],\n   [33, 33],\n   [18, 38],\n   [15, 56],\n   [0, 44],\n   [7, 37],\n   [55, 48],\n   [5, 33],\n   [37, 0],\n   [32, 53],\n   [14, 22],\n   [17, 56],\n   [63, 33],\n   [48, 25],\n   [27, 46],\n   [34, 26],\n   [42, 46],\n   [57, 27],\n   [62, 49],\n   [49, 4],\n   [13, 57],\n   [26, 47],\n   [4, 23],\n   [37, 5],\n   [44, 12],\n   [58, 46],\n   [5, 51],\n   [5, 60],\n   [6, 46],\n   [32, 57],\n   [11, 41],\n   [2, 29],\n   [13, 9],\n   [60, 50],\n   [49, 21],\n   [55, 22],\n   [34, 27],\n   [8, 46],\n   [41, 48],\n   [50, 22],\n   [59, 18],\n   [60, 54],\n   [58, 3],\n   [59, 30],\n   [34, 6],\n   [54, 8],\n   [41, 14],\n   [36, 30],\n   [43, 43],\n   [8, 37],\n   [29, 5],\n   [6, 47],\n   [45, 47],\n   [58, 25],\n   [63, 58],\n   [41, 19],\n   [32, 25],\n   [35, 7],\n   [59, 49],\n   [48, 35],\n   [18, 28],\n   [5, 52],\n   [0, 16],\n   [33, 10],\n   [4, 42],\n   [31, 53],\n   [7, 62],\n   [62, 8],\n   [5, 6],\n   [2, 51],\n   [8, 21],\n   [17, 18],\n   [5, 8],\n   [50, 37],\n   [12, 35],\n   [27, 45],\n   [24, 8],\n   [11, 15],\n   [28, 24],\n   [31, 61],\n   [17, 25],\n   [12, 52],\n   [33, 17],\n   [31, 54],\n   [2, 14],\n   [63, 31],\n   [38, 42],\n   [8, 52],\n   [58, 59],\n   [49, 33],\n   [16, 0],\n   [11, 1],\n   [49, 16],\n   [28, 54],\n   [41, 53],\n   [41, 57],\n   [43, 61],\n   [52, 19],\n   [23, 43],\n   [10, 54],\n   [55, 9],\n   [3, 21],\n   [1, 48],\n   [19, 60],\n   [8, 35],\n   [18, 51],\n   [56, 10],\n   [0, 57],\n   [31, 18],\n   [50, 25],\n   [16, 50],\n   [31, 7],\n   [63, 17],\n   [38, 13],\n   [18, 35],\n   [54, 9],\n   [33, 11],\n   [2, 13],\n   [60, 21],\n   [23, 38],\n   [18, 22],\n   [47, 62],\n   [34, 28],\n   [22, 31],\n   [1, 9],\n   [36, 41],\n   [24, 32],\n   [41, 35],\n   [61, 48],\n   [50, 53],\n   [25, 36],\n   [7, 26],\n   [12, 58],\n   [57, 5],\n   [57, 30],\n   [45, 27],\n   [26, 18],\n   [50, 62],\n   [20, 17],\n   [24, 27],\n   [29, 38],\n   [18, 24],\n   [22, 16],\n   [35, 24],\n   [38, 10],\n   [39, 49],\n   [37, 8],\n   [61, 0],\n   [51, 45],\n   [11, 20],\n   [23, 62],\n   [49, 59],\n   [23, 23],\n   [38, 33],\n   [60, 37],\n   [5, 28],\n   [59, 46],\n   [27, 28],\n   [40, 6],\n   [52, 42],\n   [57, 6],\n   [13, 35],\n   [44, 38],\n   [54, 61],\n   [2, 9],\n   [44, 34],\n   [57, 52],\n   [44, 2],\n   [59, 31],\n   [33, 23],\n   [24, 9],\n   [44, 33],\n   [58, 14],\n   [61, 15],\n   [52, 60],\n   [61, 16],\n   [12, 40],\n   [27, 59],\n   [3, 63],\n   [6, 31],\n   [23, 11],\n   [7, 57],\n   [1, 32],\n   [2, 15],\n   [51, 22],\n   [58, 5],\n   [21, 41],\n   [41, 18],\n   [27, 16],\n   [9, 13],\n   [23, 32],\n   [21, 25],\n   [21, 60],\n   [33, 36],\n   [45, 55],\n   [2, 26],\n   [41, 25],\n   [39, 3],\n   [29, 62],\n   [58, 55],\n   [6, 49],\n   [11, 63],\n   [36, 59],\n   [43, 14],\n   [33, 13],\n   [22, 30],\n   [39, 46],\n   [38, 63],\n   [19, 32],\n   [24, 18],\n   [10, 19],\n   [46, 31],\n   [48, 57],\n   [41, 7],\n   [58, 10],\n   [21, 51],\n   [53, 12],\n   [22, 12],\n   [29, 49],\n   [1, 12],\n   [7, 45],\n   [58, 13],\n   [45, 1],\n   [9, 35],\n   [33, 18],\n   [6, 4],\n   [40, 45],\n   [35, 17],\n   [51, 18],\n   [0, 18],\n   [35, 26],\n   [37, 32],\n   [39, 19],\n   [51, 10],\n   [34, 24],\n   [24, 25],\n   [42, 60],\n   [50, 38],\n   [7, 38],\n   [58, 35],\n   [16, 1],\n   [55, 63],\n   [12, 20],\n   [13, 48],\n   [32, 10],\n   [1, 27],\n   [7, 6],\n   [12, 34],\n   [16, 11],\n   [43, 29],\n   [61, 37],\n   [32, 54],\n   [2, 12],\n   [42, 52],\n   [27, 51],\n   [48, 29],\n   [60, 16],\n   [63, 30],\n   [35, 54],\n   [17, 47],\n   [31, 48],\n   [34, 56],\n   [6, 41],\n   [58, 63],\n   [37, 12],\n   [15, 41],\n   [49, 61],\n   [45, 46],\n   [17, 60],\n   [29, 20],\n   [61, 14],\n   [36, 27],\n   [21, 23],\n   [11, 39],\n   [23, 1],\n   [20, 53],\n   [53, 25],\n   [12, 15],\n   [19, 19],\n   [33, 9],\n   [63, 10],\n   [20, 5],\n   [9, 29],\n   [11, 26],\n   [21, 18],\n   [24, 4],\n   [63, 48],\n   [58, 26],\n   [25, 39],\n   [17, 24],\n   [42, 34],\n   [5, 30],\n   [24, 59],\n   [28, 5],\n   [19, 28],\n   [8, 49],\n   [61, 31],\n   [35, 33],\n   [16, 45],\n   [11, 35],\n   [48, 0],\n   [59, 15],\n   [50, 24],\n   [21, 2],\n   [56, 47],\n   [3, 40],\n   [20, 47],\n   [16, 62],\n   [15, 32],\n   [19, 15],\n   [11, 3]]},\n {'agent_points': [0, 0, 0, 0, 0, 0, 0, 0, 0, 0]})"
     },
     "execution_count": 86,
     "metadata": {},
     "output_type": "execute_result"
    }
   ],
   "source": [
    "env.reset()"
   ]
  },
  {
   "cell_type": "code",
   "execution_count": 87,
   "metadata": {
    "pycharm": {
     "name": "#%%\n"
    }
   },
   "outputs": [],
   "source": [
    "observation = env._get_obs\n",
    "while True:\n",
    "    \n",
    "\n",
    "    observation, reward, terminated, info = env.step([[agent.pick_action(observation)] for agent in env.agents])\n",
    "\n",
    "    if terminated:\n",
    "        break\n",
    "pygame.quit()    "
   ]
  },
  {
   "cell_type": "code",
   "execution_count": 88,
   "metadata": {
    "pycharm": {
     "name": "#%%\n"
    }
   },
   "outputs": [
    {
     "name": "stdout",
     "output_type": "stream",
     "text": [
      "{'agent_points': [-3, -5, 6, 2, -4, -7, -7, -3, 0, -4]}\n",
      "Agent 2 wins the game with 6 points\n"
     ]
    }
   ],
   "source": [
    "print(info)\n",
    "np.argmax(info['agent_points'])\n",
    "print(f\"Agent {np.argmax(info['agent_points'])} wins the game with {max(info['agent_points'])} points\")"
   ]
  }
 ],
 "metadata": {
  "kernelspec": {
   "display_name": "Python 3 (ipykernel)",
   "language": "python",
   "name": "python3"
  },
  "language_info": {
   "codemirror_mode": {
    "name": "ipython",
    "version": 3
   },
   "file_extension": ".py",
   "mimetype": "text/x-python",
   "name": "python",
   "nbconvert_exporter": "python",
   "pygments_lexer": "ipython3",
   "version": "3.10.9"
  }
 },
 "nbformat": 4,
 "nbformat_minor": 1
}
