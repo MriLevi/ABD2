{
 "cells": [
  {
   "cell_type": "code",
   "execution_count": 1,
   "metadata": {},
   "outputs": [],
   "source": [
    "import pandas as pd\n",
    "import seaborn as sns\n",
    "import numpy as np\n",
    "from scipy import stats"
   ]
  },
  {
   "cell_type": "code",
   "execution_count": 2,
   "metadata": {},
   "outputs": [],
   "source": [
    "df1 = pd.read_csv(\"data/AuctionBatchSimulation_0.25bf.csv\", index_col = \"Unnamed: 0\")\n",
    "df2 = pd.read_csv(\"data/NoAuctionNoSharedMemoryBatchSimulation_0.25bf.csv\", index_col = \"Unnamed: 0\")\n",
    "df3 = pd.read_csv(\"data/NoAuctionSharedMemoryBatchSimulation_0.25bf.csv\", index_col = \"Unnamed: 0\")"
   ]
  },
  {
   "cell_type": "code",
   "execution_count": 3,
   "metadata": {},
   "outputs": [],
   "source": [
    "df4 = pd.read_csv(\"data/AuctionBatchSimulation_0.35bf.csv\", index_col = \"Unnamed: 0\")\n",
    "df5 = pd.read_csv(\"data/NoAuctionNoSharedMemoryBatchSimulation_0.35bf.csv\", index_col = \"Unnamed: 0\")\n",
    "df6 = pd.read_csv(\"data/NoAuctionSharedMemoryBatchSimulation_0.35bf.csv\", index_col = \"Unnamed: 0\")"
   ]
  },
  {
   "cell_type": "code",
   "execution_count": 4,
   "metadata": {},
   "outputs": [],
   "source": [
    "df1['bad_food_ratio'] = 0.25\n",
    "df2['bad_food_ratio'] = 0.25\n",
    "df3['bad_food_ratio'] = 0.25\n",
    "\n",
    "df4['bad_food_ratio'] = 0.35\n",
    "df5['bad_food_ratio'] = 0.35\n",
    "df6['bad_food_ratio'] = 0.35"
   ]
  },
  {
   "cell_type": "code",
   "execution_count": 5,
   "metadata": {},
   "outputs": [],
   "source": [
    "df1['type'] = 'auction'\n",
    "df2['type'] = 'normal'\n",
    "#df3['type'] = 'shared_vision'\n",
    "\n",
    "df4['type'] = 'auction'\n",
    "df5['type'] = 'normal'\n",
    "#df6['type'] = 'shared_vision'"
   ]
  },
  {
   "cell_type": "code",
   "execution_count": 6,
   "metadata": {},
   "outputs": [],
   "source": [
    "df_combined = pd.concat([df1,df2,df4,df5])"
   ]
  },
  {
   "cell_type": "code",
   "execution_count": 7,
   "metadata": {},
   "outputs": [],
   "source": [
    "df_combined['points/step'] =  df_combined['points'] / df_combined['steps_at_termination']  "
   ]
  },
  {
   "cell_type": "code",
   "execution_count": 8,
   "metadata": {},
   "outputs": [
    {
     "data": {
      "text/html": [
       "<div>\n",
       "<style scoped>\n",
       "    .dataframe tbody tr th:only-of-type {\n",
       "        vertical-align: middle;\n",
       "    }\n",
       "\n",
       "    .dataframe tbody tr th {\n",
       "        vertical-align: top;\n",
       "    }\n",
       "\n",
       "    .dataframe thead th {\n",
       "        text-align: right;\n",
       "    }\n",
       "</style>\n",
       "<table border=\"1\" class=\"dataframe\">\n",
       "  <thead>\n",
       "    <tr style=\"text-align: right;\">\n",
       "      <th></th>\n",
       "      <th>points</th>\n",
       "      <th>steps_at_termination</th>\n",
       "      <th>bad_food_ratio</th>\n",
       "      <th>type</th>\n",
       "      <th>points/step</th>\n",
       "    </tr>\n",
       "  </thead>\n",
       "  <tbody>\n",
       "    <tr>\n",
       "      <th>0</th>\n",
       "      <td>424</td>\n",
       "      <td>415</td>\n",
       "      <td>0.25</td>\n",
       "      <td>auction</td>\n",
       "      <td>1.021687</td>\n",
       "    </tr>\n",
       "    <tr>\n",
       "      <th>1</th>\n",
       "      <td>427</td>\n",
       "      <td>1235</td>\n",
       "      <td>0.25</td>\n",
       "      <td>auction</td>\n",
       "      <td>0.345749</td>\n",
       "    </tr>\n",
       "    <tr>\n",
       "      <th>2</th>\n",
       "      <td>426</td>\n",
       "      <td>340</td>\n",
       "      <td>0.25</td>\n",
       "      <td>auction</td>\n",
       "      <td>1.252941</td>\n",
       "    </tr>\n",
       "    <tr>\n",
       "      <th>3</th>\n",
       "      <td>426</td>\n",
       "      <td>820</td>\n",
       "      <td>0.25</td>\n",
       "      <td>auction</td>\n",
       "      <td>0.519512</td>\n",
       "    </tr>\n",
       "    <tr>\n",
       "      <th>4</th>\n",
       "      <td>424</td>\n",
       "      <td>395</td>\n",
       "      <td>0.25</td>\n",
       "      <td>auction</td>\n",
       "      <td>1.073418</td>\n",
       "    </tr>\n",
       "    <tr>\n",
       "      <th>...</th>\n",
       "      <td>...</td>\n",
       "      <td>...</td>\n",
       "      <td>...</td>\n",
       "      <td>...</td>\n",
       "      <td>...</td>\n",
       "    </tr>\n",
       "    <tr>\n",
       "      <th>995</th>\n",
       "      <td>421</td>\n",
       "      <td>560</td>\n",
       "      <td>0.35</td>\n",
       "      <td>normal</td>\n",
       "      <td>0.751786</td>\n",
       "    </tr>\n",
       "    <tr>\n",
       "      <th>996</th>\n",
       "      <td>425</td>\n",
       "      <td>500</td>\n",
       "      <td>0.35</td>\n",
       "      <td>normal</td>\n",
       "      <td>0.850000</td>\n",
       "    </tr>\n",
       "    <tr>\n",
       "      <th>997</th>\n",
       "      <td>422</td>\n",
       "      <td>465</td>\n",
       "      <td>0.35</td>\n",
       "      <td>normal</td>\n",
       "      <td>0.907527</td>\n",
       "    </tr>\n",
       "    <tr>\n",
       "      <th>998</th>\n",
       "      <td>421</td>\n",
       "      <td>645</td>\n",
       "      <td>0.35</td>\n",
       "      <td>normal</td>\n",
       "      <td>0.652713</td>\n",
       "    </tr>\n",
       "    <tr>\n",
       "      <th>999</th>\n",
       "      <td>412</td>\n",
       "      <td>890</td>\n",
       "      <td>0.35</td>\n",
       "      <td>normal</td>\n",
       "      <td>0.462921</td>\n",
       "    </tr>\n",
       "  </tbody>\n",
       "</table>\n",
       "<p>4000 rows × 5 columns</p>\n",
       "</div>"
      ],
      "text/plain": [
       "     points  steps_at_termination  bad_food_ratio     type  points/step\n",
       "0       424                   415            0.25  auction     1.021687\n",
       "1       427                  1235            0.25  auction     0.345749\n",
       "2       426                   340            0.25  auction     1.252941\n",
       "3       426                   820            0.25  auction     0.519512\n",
       "4       424                   395            0.25  auction     1.073418\n",
       "..      ...                   ...             ...      ...          ...\n",
       "995     421                   560            0.35   normal     0.751786\n",
       "996     425                   500            0.35   normal     0.850000\n",
       "997     422                   465            0.35   normal     0.907527\n",
       "998     421                   645            0.35   normal     0.652713\n",
       "999     412                   890            0.35   normal     0.462921\n",
       "\n",
       "[4000 rows x 5 columns]"
      ]
     },
     "execution_count": 8,
     "metadata": {},
     "output_type": "execute_result"
    }
   ],
   "source": [
    "df_combined"
   ]
  },
  {
   "cell_type": "code",
   "execution_count": 9,
   "metadata": {},
   "outputs": [
    {
     "data": {
      "image/png": "[encoded data removed]",
      "text/plain": [
       "<Figure size 432x288 with 1 Axes>"
      ]
     },
     "metadata": {
      "needs_background": "light"
     },
     "output_type": "display_data"
    }
   ],
   "source": [
    "sns.set_theme(style=\"ticks\", palette=\"pastel\")\n",
    "\n",
    "\n",
    "# Draw a nested boxplot to show bills by day and time\n",
    "sns.boxplot(x=\"bad_food_ratio\", y=\"steps_at_termination\",\n",
    "            hue=\"type\", palette=[\"r\", \"g\", 'b'],\n",
    "            data=df_combined[(np.abs(stats.zscore(df_combined['steps_at_termination'])) < 3)])\n",
    "sns.despine(offset=10, trim=False)"
   ]
  },
  {
   "cell_type": "code",
   "execution_count": 10,
   "metadata": {},
   "outputs": [
    {
     "data": {
      "image/png": "[encoded data removed]",
      "text/plain": [
       "<Figure size 432x288 with 1 Axes>"
      ]
     },
     "metadata": {},
     "output_type": "display_data"
    }
   ],
   "source": [
    "sns.set_theme(style=\"ticks\", palette=\"pastel\")\n",
    "\n",
    "# Draw a nested boxplot to show bills by day and time\n",
    "sns.boxplot(x=\"bad_food_ratio\", y=\"points\",\n",
    "            hue=\"type\", palette=[\"r\", \"g\", 'b'],\n",
    "            data=df_combined[(np.abs(stats.zscore(df_combined['points'])) < 3)])\n",
    "sns.despine(offset=10, trim=False)"
   ]
  },
  {
   "cell_type": "code",
   "execution_count": 14,
   "metadata": {},
   "outputs": [
    {
     "data": {
      "image/png": "[encoded data removed]",
      "text/plain": [
       "<Figure size 432x288 with 1 Axes>"
      ]
     },
     "metadata": {},
     "output_type": "display_data"
    }
   ],
   "source": [
    "sns.set_theme(style=\"ticks\", palette=\"pastel\")\n",
    "\n",
    "\n",
    "# Draw a nested boxplot to show bills by day and time\n",
    "ax = sns.boxplot(x=\"bad_food_ratio\", y=\"points/step\",\n",
    "            hue=\"type\", palette=[\"r\", \"g\", 'b'],\n",
    "            data=df_combined[(np.abs(stats.zscore(df_combined['points/step'])) < 3)])\n",
    "sns.despine(offset=10, trim=False)\n",
    "sns.move_legend(ax, 'upper right')"
   ]
  },
  {
   "cell_type": "code",
   "execution_count": 25,
   "metadata": {},
   "outputs": [
    {
     "data": {
      "text/plain": [
       "count    1000.000000\n",
       "mean        0.886514\n",
       "std         0.367259\n",
       "min         0.142762\n",
       "25%         0.562646\n",
       "50%         0.934066\n",
       "75%         1.222857\n",
       "max         1.607547\n",
       "Name: points/step, dtype: float64"
      ]
     },
     "execution_count": 25,
     "metadata": {},
     "output_type": "execute_result"
    }
   ],
   "source": [
    "df_combined.where((df_combined['type'] == 'auction') & (df_combined['bad_food_ratio'] == 0.25)).dropna()['points/step'].describe()"
   ]
  },
  {
   "cell_type": "code",
   "execution_count": 27,
   "metadata": {},
   "outputs": [
    {
     "data": {
      "text/plain": [
       "count    1000.000000\n",
       "mean        0.802244\n",
       "std         0.295248\n",
       "min         0.148007\n",
       "25%         0.585914\n",
       "50%         0.813462\n",
       "75%         1.016667\n",
       "max         1.646154\n",
       "Name: points/step, dtype: float64"
      ]
     },
     "execution_count": 27,
     "metadata": {},
     "output_type": "execute_result"
    }
   ],
   "source": [
    "df_combined.where((df_combined['type'] == 'normal') & (df_combined['bad_food_ratio'] == 0.25)).dropna()['points/step'].describe()"
   ]
  },
  {
   "cell_type": "code",
   "execution_count": 30,
   "metadata": {},
   "outputs": [
    {
     "data": {
      "text/plain": [
       "0.08427000000000007"
      ]
     },
     "execution_count": 30,
     "metadata": {},
     "output_type": "execute_result"
    }
   ],
   "source": [
    "0.886514-0.802244"
   ]
  },
  {
   "cell_type": "code",
   "execution_count": 31,
   "metadata": {},
   "outputs": [
    {
     "data": {
      "text/plain": [
       "9.51992405363711"
      ]
     },
     "execution_count": 31,
     "metadata": {},
     "output_type": "execute_result"
    }
   ],
   "source": [
    "0.802244/0.08427000000000007"
   ]
  }
 ],
 "metadata": {
  "kernelspec": {
   "display_name": "Python 3 (ipykernel)",
   "language": "python",
   "name": "python3"
  },
  "language_info": {
   "codemirror_mode": {
    "name": "ipython",
    "version": 3
   },
   "file_extension": ".py",
   "mimetype": "text/x-python",
   "name": "python",
   "nbconvert_exporter": "python",
   "pygments_lexer": "ipython3",
   "version": "3.9.10"
  }
 },
 "nbformat": 4,
 "nbformat_minor": 1
}
